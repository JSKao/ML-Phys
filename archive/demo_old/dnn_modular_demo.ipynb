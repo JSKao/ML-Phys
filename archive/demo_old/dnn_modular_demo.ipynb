{
 "cells": [
  {
   "cell_type": "markdown",
   "id": "6245fa04",
   "metadata": {},
   "source": [
    "# Modular Neural Network Layers Demo\n",
    "\n",
    "本 notebook 示範如何以模組化方式實作與測試神經網路 layer，方便未來擴充 CNN、GCN、Transformer、VAE 等架構。"
   ]
  },
  {
   "cell_type": "code",
   "execution_count": 1,
   "id": "dc68c7bf",
   "metadata": {},
   "outputs": [],
   "source": [
    "import numpy as np\n",
    "import sys\n",
    "sys.path.append('../../models')  # 依實際路徑調整\n",
    "from layers import BaseLayer, DenseLayer, build_layers_from_config, ConvLayer, GCNLayer, TransformerLayer, VAELayer"
   ]
  },
  {
   "cell_type": "code",
   "execution_count": 2,
   "id": "55e45c8b",
   "metadata": {},
   "outputs": [],
   "source": [
    "# BaseLayer 抽象類別設計\n",
    "from abc import ABC, abstractmethod\n",
    "\n",
    "class BaseLayer(ABC):\n",
    "    def __init__(self):\n",
    "        pass\n",
    "    @abstractmethod\n",
    "    def forward(self, X):\n",
    "        pass\n",
    "    @abstractmethod\n",
    "    def backward(self, dA):\n",
    "        pass"
   ]
  },
  {
   "cell_type": "code",
   "execution_count": 3,
   "id": "66189cfa",
   "metadata": {},
   "outputs": [],
   "source": [
    "# DenseLayer 實作\n",
    "class DenseLayer(BaseLayer):\n",
    "    def __init__(self, in_dim, out_dim, activation):\n",
    "        super().__init__()\n",
    "        self.W = np.random.randn(out_dim, in_dim) * 0.01\n",
    "        self.b = np.zeros((out_dim, 1))\n",
    "        self.activation = activation\n",
    "        self.cache = None\n",
    "\n",
    "    def forward(self, X):\n",
    "        Z = np.dot(self.W, X) + self.b\n",
    "        if self.activation == 'relu':\n",
    "            A = np.maximum(0, Z)\n",
    "        elif self.activation == 'sigmoid':\n",
    "            A = 1 / (1 + np.exp(-Z))\n",
    "        else:\n",
    "            raise ValueError(f\"Unsupported activation: {self.activation}\")\n",
    "        self.cache = (X, Z, A)\n",
    "        return A\n",
    "\n",
    "    def backward(self, dA):\n",
    "        X, Z, A = self.cache\n",
    "        m = X.shape[1]\n",
    "        if self.activation == 'sigmoid':\n",
    "            dZ = dA * A * (1 - A)\n",
    "        elif self.activation == 'relu':\n",
    "            dZ = dA * (Z > 0)\n",
    "        else:\n",
    "            raise ValueError(f\"Unsupported activation: {self.activation}\")\n",
    "        dW = 1/m * np.dot(dZ, X.T)\n",
    "        db = 1/m * np.sum(dZ, axis=1, keepdims=True)\n",
    "        dX = np.dot(self.W.T, dZ)\n",
    "        return dX, dW, db"
   ]
  },
  {
   "cell_type": "code",
   "execution_count": 4,
   "id": "a3dad42f",
   "metadata": {},
   "outputs": [],
   "source": [
    "# 根據 config 建立 layer list\n",
    "\n",
    "def build_layers_from_config(layers_config):\n",
    "    layers = []\n",
    "    for cfg in layers_config:\n",
    "        ltype = cfg['type'].lower()\n",
    "        if ltype == 'dense':\n",
    "            layers.append(DenseLayer(cfg['in_dim'], cfg['out_dim'], cfg['activation']))\n",
    "        elif ltype == 'conv':\n",
    "            layers.append(ConvLayer())  # TODO: 傳入參數\n",
    "        elif ltype == 'gcn':\n",
    "            layers.append(GCNLayer())   # TODO: 傳入參數\n",
    "        elif ltype == 'transformer':\n",
    "            layers.append(TransformerLayer())\n",
    "        elif ltype == 'vae':\n",
    "            layers.append(VAELayer())\n",
    "        else:\n",
    "            raise ValueError(f\"Unknown layer type: {cfg['type']}\")\n",
    "    return layers"
   ]
  },
  {
   "cell_type": "code",
   "execution_count": 5,
   "id": "87982169",
   "metadata": {},
   "outputs": [
    {
     "name": "stdout",
     "output_type": "stream",
     "text": [
      "Forward output shape: (3, 10)\n",
      "Backward dX shape: (5, 10)\n",
      "Backward dW shape: (3, 5)\n",
      "Backward db shape: (3, 1)\n"
     ]
    }
   ],
   "source": [
    "# 測試 DenseLayer forward/backward\n",
    "np.random.seed(42)\n",
    "X = np.random.randn(5, 10)  # 5 features, 10 samples\n",
    "layer = DenseLayer(5, 3, 'relu')\n",
    "A = layer.forward(X)\n",
    "print('Forward output shape:', A.shape)\n",
    "\n",
    "dA = np.random.randn(3, 10)\n",
    "dX, dW, db = layer.backward(dA)\n",
    "print('Backward dX shape:', dX.shape)\n",
    "print('Backward dW shape:', dW.shape)\n",
    "print('Backward db shape:', db.shape)"
   ]
  },
  {
   "cell_type": "code",
   "execution_count": 6,
   "id": "bc1ed3b0",
   "metadata": {},
   "outputs": [],
   "source": [
    "# 預留 CNN/GCN/Transformer/VAE layer class\n",
    "class ConvLayer(BaseLayer):\n",
    "    def __init__(self):\n",
    "        super().__init__()\n",
    "        # TODO: add parameters and implement\n",
    "    def forward(self, X):\n",
    "        pass\n",
    "    def backward(self, dA):\n",
    "        pass\n",
    "\n",
    "class GCNLayer(BaseLayer):\n",
    "    def __init__(self):\n",
    "        super().__init__()\n",
    "        # TODO: add parameters and implement\n",
    "    def forward(self, X, A):\n",
    "        pass\n",
    "    def backward(self, dA):\n",
    "        pass\n",
    "\n",
    "class TransformerLayer(BaseLayer):\n",
    "    def __init__(self):\n",
    "        super().__init__()\n",
    "        # TODO: add parameters and implement\n",
    "    def forward(self, X):\n",
    "        pass\n",
    "    def backward(self, dA):\n",
    "        pass\n",
    "\n",
    "class VAELayer(BaseLayer):\n",
    "    def __init__(self):\n",
    "        super().__init__()\n",
    "        # TODO: add parameters and implement\n",
    "    def forward(self, X):\n",
    "        pass\n",
    "    def backward(self, dA):\n",
    "        pass"
   ]
  },
  {
   "cell_type": "code",
   "execution_count": 7,
   "id": "ae0e70db",
   "metadata": {},
   "outputs": [
    {
     "name": "stdout",
     "output_type": "stream",
     "text": [
      "Cost: 0.6932205891131545\n",
      "Backward done.\n"
     ]
    }
   ],
   "source": [
    "# 多層 Dense Network forward/backward 示範\n",
    "np.random.seed(0)\n",
    "layers_config = [\n",
    "    {'type': 'dense', 'in_dim': 5, 'out_dim': 8, 'activation': 'relu'},\n",
    "    {'type': 'dense', 'in_dim': 8, 'out_dim': 3, 'activation': 'sigmoid'}\n",
    "]\n",
    "layers = build_layers_from_config(layers_config)\n",
    "\n",
    "X = np.random.randn(5, 10)\n",
    "Y = (np.random.rand(3, 10) > 0.5).astype(float)\n",
    "\n",
    "# Forward\n",
    "A = X\n",
    "for layer in layers:\n",
    "    A = layer.forward(A)\n",
    "AL = A\n",
    "\n",
    "# 簡單 cross-entropy cost\n",
    "cost = -np.mean(Y * np.log(AL + 1e-8) + (1 - Y) * np.log(1 - AL + 1e-8))\n",
    "print('Cost:', cost)\n",
    "\n",
    "# Backward\n",
    "# dAL: cross-entropy 對 sigmoid 輸出\n",
    "m = Y.shape[1]\n",
    "dAL = -(Y / (AL + 1e-8) - (1 - Y) / (1 - AL + 1e-8)) / m\n",
    "dA = dAL\n",
    "for layer in reversed(layers):\n",
    "    dA, dW, db = layer.backward(dA)\n",
    "print('Backward done.')"
   ]
  },
  {
   "cell_type": "code",
   "execution_count": 8,
   "id": "b2721eff",
   "metadata": {},
   "outputs": [
    {
     "name": "stdout",
     "output_type": "stream",
     "text": [
      "Test accuracy: 0.025\n"
     ]
    },
    {
     "data": {
      "image/png": "[encoded data removed]",
      "text/plain": [
       "<Figure size 640x480 with 1 Axes>"
      ]
     },
     "metadata": {},
     "output_type": "display_data"
    }
   ],
   "source": [
    "# 自動化多層 DNN 訓練流程（含 loss 曲線與 accuracy）\n",
    "import matplotlib.pyplot as plt\n",
    "\n",
    "np.random.seed(1)\n",
    "layers_config = [\n",
    "    {'type': 'dense', 'in_dim': 5, 'out_dim': 8, 'activation': 'relu'},\n",
    "    {'type': 'dense', 'in_dim': 8, 'out_dim': 3, 'activation': 'sigmoid'}\n",
    "]\n",
    "layers = build_layers_from_config(layers_config)\n",
    "\n",
    "# 產生 toy data\n",
    "X = np.random.randn(5, 200)\n",
    "Y = (np.random.rand(3, 200) > 0.5).astype(float)\n",
    "\n",
    "# split train/test\n",
    "split = 160\n",
    "X_train, X_test = X[:, :split], X[:, split:]\n",
    "Y_train, Y_test = Y[:, :split], Y[:, split:]\n",
    "\n",
    "costs = []\n",
    "learning_rate = 0.1\n",
    "epochs = 1000\n",
    "for epoch in range(epochs):\n",
    "    # forward\n",
    "    A = X_train\n",
    "    for layer in layers:\n",
    "        A = layer.forward(A)\n",
    "    AL = A\n",
    "    # cost\n",
    "    cost = -np.mean(Y_train * np.log(AL + 1e-8) + (1 - Y_train) * np.log(1 - AL + 1e-8))\n",
    "    if epoch % 100 == 0:\n",
    "        costs.append(cost)\n",
    "    # backward\n",
    "    m = Y_train.shape[1]\n",
    "    dAL = -(Y_train / (AL + 1e-8) - (1 - Y_train) / (1 - AL + 1e-8)) / m\n",
    "    dA = dAL\n",
    "    grads = []\n",
    "    for layer in reversed(layers):\n",
    "        dA, dW, db = layer.backward(dA)\n",
    "        grads.insert(0, (dW, db))\n",
    "    # update\n",
    "    for i, layer in enumerate(layers):\n",
    "        dW, db = grads[i]\n",
    "        layer.W -= learning_rate * dW\n",
    "        layer.b -= learning_rate * db\n",
    "\n",
    "# 測試集評估\n",
    "A = X_test\n",
    "for layer in layers:\n",
    "    A = layer.forward(A)\n",
    "AL_test = A\n",
    "y_pred = np.argmax(AL_test, axis=0)\n",
    "y_true = np.argmax(Y_test, axis=0)\n",
    "accuracy = np.mean(y_pred == y_true)\n",
    "print(f\"Test accuracy: {accuracy:.3f}\")\n",
    "\n",
    "# loss 曲線\n",
    "plt.plot(np.arange(0, epochs, 100), costs)\n",
    "plt.xlabel('Epoch')\n",
    "plt.ylabel('Cost')\n",
    "plt.title('Training Loss Curve')\n",
    "plt.show()"
   ]
  },
  {
   "cell_type": "markdown",
   "id": "6852dbe7",
   "metadata": {},
   "source": [
    "# Data Loader 教學與強化\n",
    "\n",
    "本節將帶你逐步理解與擴建 data_loader.py，讓它成為 ML 專案中資料處理的強大利器。\n",
    "\n",
    "## 目標\n",
    "- 熟悉現有 data_loader.py 的所有功能與用法\n",
    "- 學會如何自動載入、分割、轉置、處理多種資料格式（npz/csv/npy/h5/graph）\n",
    "- 逐步擴充：資料增強、標準化、toy data 生成、batch generator、EDA 等\n",
    "- 打造一個可重用、可擴充、現代化的 data pipeline"
   ]
  },
  {
   "cell_type": "markdown",
   "id": "d070ad5b",
   "metadata": {},
   "source": [
    "## 1. 現有 data_loader.py 功能總覽\n",
    "\n",
    "- 支援自動載入 npz/csv/npy/h5/graph 結構資料\n",
    "- 可指定 key、欄位、h5 路徑等，彈性高\n",
    "- 自動分割 train/test，並自動轉置成 (N, m) 格式，方便對接 numpy-from-scratch DNN\n",
    "- 支援影像/張量/時序資料\n",
    "- 可載入圖結構資料（adjacency matrix/edge list）\n",
    "\n",
    "### 用法範例\n",
    "```python\n",
    "from data_loader import load_data\n",
    "# 載入 npz 檔\n",
    "x_train, x_test, y_train, y_test, N = load_data('data.npz')\n",
    "# 載入 csv 檔\n",
    "x_train, x_test, y_train, y_test, N = load_data('data.csv', N=20, y_cols=2)\n",
    "# 載入圖結構資料\n",
    "graph = load_data('graph.npz', graph_key='adj')\n",
    "```\n",
    "\n",
    "接下來會逐步帶你實作與測試每一個功能。"
   ]
  },
  {
   "cell_type": "markdown",
   "id": "07687200",
   "metadata": {},
   "source": [
    "### 2. npz 檔案自動載入功能實測\n",
    "\n",
    "本節將實際操作 data_loader.py 的 npz 檔案自動載入功能，讓你熟悉其用法與行為。\n",
    "\n",
    "**步驟：**\n",
    "1. 準備一個 toy npz 檔案（含 X, Y 資料）\n",
    "2. 用 `load_data` 載入，觀察自動分割、轉置、回傳格式\n",
    "3. 檢查 shape、內容、N 值\n",
    "\n",
    "（如無現成 npz，可用下方 code cell 產生 toy npz 檔）"
   ]
  },
  {
   "cell_type": "code",
   "execution_count": 13,
   "id": "6f95241d",
   "metadata": {},
   "outputs": [
    {
     "name": "stdout",
     "output_type": "stream",
     "text": [
      "toy_data.npz 已產生，內容 shape: (100, 5) (100, 1)\n"
     ]
    }
   ],
   "source": [
    "# 產生 toy npz 檔案供測試\n",
    "import numpy as np\n",
    "\n",
    "X = np.random.randn(100, 5)  # 100 筆資料, 5 features\n",
    "Y = (np.random.rand(100, 1) > 0.5).astype(int)  # 100 筆二元標籤\n",
    "\n",
    "np.savez('toy_data.npz', X=X, Y=Y)\n",
    "print('toy_data.npz 已產生，內容 shape:', X.shape, Y.shape)"
   ]
  },
  {
   "cell_type": "code",
   "execution_count": null,
   "id": "62922a69",
   "metadata": {},
   "outputs": [],
   "source": [
    "# 用 data_loader 載入 toy_data.npz，檢查 shape 與內容\n",
    "import sys\n",
    "sys.path.append('../../archive/from_scratch')  # 根據實際路徑調整\n",
    "from data_loader import load_data\n",
    "\n",
    "x_train, x_test, y_train, y_test, N = load_data('toy_data.npz')\n",
    "print('x_train shape:', x_train.shape)\n",
    "print('x_test shape:', x_test.shape)\n",
    "print('y_train shape:', y_train.shape)\n",
    "print('y_test shape:', y_test.shape)\n",
    "print('N:', N)\n",
    "\n",
    "# 檢查部分內容\n",
    "print('x_train[0]:', x_train[0])\n",
    "print('y_train[0]:', y_train[0])"
   ]
  },
  {
   "cell_type": "markdown",
   "id": "43c3d4b7",
   "metadata": {},
   "source": [
    "> 執行上方 cell，觀察 x_train/x_test/y_train/y_test/N 的 shape 與內容，理解 data_loader.py 的自動分割、轉置、回傳格式。\n",
    "- 預設會自動將資料分割為 train/test，並將 shape 轉為 (N, m) 方便 DNN 使用。\n",
    "- 若 npz 檔有多個 key，可用 `x_key`, `y_key` 參數自訂。\n",
    "\n",
    "下一步：\n",
    "- 可嘗試自訂 key、調整 N、或測試其他格式（csv/npy/h5/graph）"
   ]
  }
 ],
 "metadata": {
  "kernelspec": {
   "display_name": "qiskit-env",
   "language": "python",
   "name": "python3"
  },
  "language_info": {
   "codemirror_mode": {
    "name": "ipython",
    "version": 3
   },
   "file_extension": ".py",
   "mimetype": "text/x-python",
   "name": "python",
   "nbconvert_exporter": "python",
   "pygments_lexer": "ipython3",
   "version": "3.10.18"
  }
 },
 "nbformat": 4,
 "nbformat_minor": 5
}
